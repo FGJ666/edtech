{
 "cells": [
  {
   "cell_type": "markdown",
   "metadata": {},
   "source": [
    "### Библиотеки\n"
   ]
  },
  {
   "cell_type": "code",
   "execution_count": 50,
   "metadata": {},
   "outputs": [],
   "source": [
    "import requests\n",
    "import urllib\n",
    "import json\n",
    "from urllib.parse import urlencode\n",
    "\n",
    "import seaborn as sns\n",
    "import matplotlib.pyplot as plt\n",
    "\n",
    "import pandas as pd\n",
    "import numpy as np\n",
    "import pandahouse as ph\n",
    "\n",
    "import pingouin as pg\n",
    "import scipy.stats as stats\n",
    "\n",
    "import os\n",
    "import warnings\n",
    "warnings.filterwarnings(\"ignore\")"
   ]
  },
  {
   "cell_type": "markdown",
   "metadata": {},
   "source": [
    "# A/B–тестирование\n"
   ]
  },
  {
   "cell_type": "markdown",
   "metadata": {},
   "source": [
    "Одной из основных задач аналитика в нашей команде является корректное проведение экспериментов. Для этого мы применяем метод A/B–тестирования. В ходе тестирования одной гипотезы целевой группе была предложена новая механика оплаты услуг на сайте, у контрольной группы оставалась базовая механика. В качестве задания вам необходимо проанализировать итоги эксперимента и сделать вывод, стоит ли запускать новую механику оплаты на всех пользователей.\n"
   ]
  },
  {
   "cell_type": "markdown",
   "metadata": {},
   "source": [
    "##### В качестве входных данных вы имеете 4 csv-файла:\n"
   ]
  },
  {
   "cell_type": "markdown",
   "metadata": {},
   "source": [
    "1. **groups.csv** – файл с информацией о принадлежности пользователя к контрольной или экспериментальной группе (А – контроль, B – целевая группа)\n",
    "2. **groups_add.csv** – дополнительный файл с пользователями, который вам прислали спустя 2 дня после передачи данных\n",
    "3. **active_studs.csv** – файл с информацией о пользователях, которые зашли на платформу в дни проведения эксперимента.\n",
    "4. **checks.csv** – файл с информацией об оплатах пользователей в дни проведения эксперимента.\n"
   ]
  },
  {
   "cell_type": "markdown",
   "metadata": {},
   "source": [
    "# Code\n"
   ]
  },
  {
   "cell_type": "code",
   "execution_count": 51,
   "metadata": {},
   "outputs": [],
   "source": [
    "# Выгрузка данных из яндекс диска\n",
    "def yandex_download(link):\n",
    "    base_url = 'https://cloud-api.yandex.net/v1/disk/public/resources/download?'\n",
    "    public_key = link  # Сюда вписываете ссылку\n",
    "\n",
    "    # Получаем загрузочную ссылку\n",
    "    final_url = base_url + urlencode(dict(public_key=public_key))\n",
    "    response = requests.get(final_url)\n",
    "    return response.json()['href']"
   ]
  },
  {
   "cell_type": "code",
   "execution_count": 52,
   "metadata": {},
   "outputs": [],
   "source": [
    "groups = pd.read_csv(yandex_download(\n",
    "    'https://disk.yandex.ru/d/UhyYx41rTt3clQ'), sep=';')\n",
    "groups_add = pd.read_csv(yandex_download(\n",
    "    'https://disk.yandex.ru/d/5Kxrz02m3IBUwQ'), sep=',')\n",
    "active_studs = pd.read_csv(yandex_download(\n",
    "    'https://disk.yandex.ru/d/Tbs44Bm6H_FwFQ'), sep=';')\n",
    "checks = pd.read_csv(yandex_download(\n",
    "    'https://disk.yandex.ru/d/pH1q-VqcxXjsVA'), sep=';')"
   ]
  },
  {
   "cell_type": "markdown",
   "metadata": {},
   "source": [
    "---\n"
   ]
  },
  {
   "cell_type": "markdown",
   "metadata": {},
   "source": [
    "##### Просмотр df\n"
   ]
  },
  {
   "cell_type": "code",
   "execution_count": 53,
   "metadata": {},
   "outputs": [
    {
     "data": {
      "text/html": [
       "<div>\n",
       "<style scoped>\n",
       "    .dataframe tbody tr th:only-of-type {\n",
       "        vertical-align: middle;\n",
       "    }\n",
       "\n",
       "    .dataframe tbody tr th {\n",
       "        vertical-align: top;\n",
       "    }\n",
       "\n",
       "    .dataframe thead th {\n",
       "        text-align: right;\n",
       "    }\n",
       "</style>\n",
       "<table border=\"1\" class=\"dataframe\">\n",
       "  <thead>\n",
       "    <tr style=\"text-align: right;\">\n",
       "      <th></th>\n",
       "      <th>id</th>\n",
       "      <th>grp</th>\n",
       "    </tr>\n",
       "  </thead>\n",
       "  <tbody>\n",
       "    <tr>\n",
       "      <th>0</th>\n",
       "      <td>1489</td>\n",
       "      <td>B</td>\n",
       "    </tr>\n",
       "    <tr>\n",
       "      <th>1</th>\n",
       "      <td>1627</td>\n",
       "      <td>A</td>\n",
       "    </tr>\n",
       "    <tr>\n",
       "      <th>2</th>\n",
       "      <td>1768</td>\n",
       "      <td>B</td>\n",
       "    </tr>\n",
       "  </tbody>\n",
       "</table>\n",
       "</div>"
      ],
      "text/plain": [
       "     id grp\n",
       "0  1489   B\n",
       "1  1627   A\n",
       "2  1768   B"
      ]
     },
     "execution_count": 53,
     "metadata": {},
     "output_type": "execute_result"
    }
   ],
   "source": [
    "groups.head(3)"
   ]
  },
  {
   "cell_type": "code",
   "execution_count": 54,
   "metadata": {},
   "outputs": [
    {
     "data": {
      "text/plain": [
       "(74484, 2)"
      ]
     },
     "execution_count": 54,
     "metadata": {},
     "output_type": "execute_result"
    }
   ],
   "source": [
    "groups.shape"
   ]
  },
  {
   "cell_type": "code",
   "execution_count": 55,
   "metadata": {},
   "outputs": [
    {
     "data": {
      "text/html": [
       "<div>\n",
       "<style scoped>\n",
       "    .dataframe tbody tr th:only-of-type {\n",
       "        vertical-align: middle;\n",
       "    }\n",
       "\n",
       "    .dataframe tbody tr th {\n",
       "        vertical-align: top;\n",
       "    }\n",
       "\n",
       "    .dataframe thead th {\n",
       "        text-align: right;\n",
       "    }\n",
       "</style>\n",
       "<table border=\"1\" class=\"dataframe\">\n",
       "  <thead>\n",
       "    <tr style=\"text-align: right;\">\n",
       "      <th></th>\n",
       "      <th>id</th>\n",
       "      <th>grp</th>\n",
       "    </tr>\n",
       "  </thead>\n",
       "  <tbody>\n",
       "    <tr>\n",
       "      <th>0</th>\n",
       "      <td>5694584</td>\n",
       "      <td>B</td>\n",
       "    </tr>\n",
       "    <tr>\n",
       "      <th>1</th>\n",
       "      <td>5694830</td>\n",
       "      <td>B</td>\n",
       "    </tr>\n",
       "    <tr>\n",
       "      <th>2</th>\n",
       "      <td>5695057</td>\n",
       "      <td>B</td>\n",
       "    </tr>\n",
       "  </tbody>\n",
       "</table>\n",
       "</div>"
      ],
      "text/plain": [
       "        id grp\n",
       "0  5694584   B\n",
       "1  5694830   B\n",
       "2  5695057   B"
      ]
     },
     "execution_count": 55,
     "metadata": {},
     "output_type": "execute_result"
    }
   ],
   "source": [
    "groups_add.head(3)"
   ]
  },
  {
   "cell_type": "code",
   "execution_count": 56,
   "metadata": {},
   "outputs": [
    {
     "data": {
      "text/plain": [
       "(92, 2)"
      ]
     },
     "execution_count": 56,
     "metadata": {},
     "output_type": "execute_result"
    }
   ],
   "source": [
    "groups_add.shape"
   ]
  },
  {
   "cell_type": "code",
   "execution_count": 57,
   "metadata": {},
   "outputs": [
    {
     "data": {
      "text/html": [
       "<div>\n",
       "<style scoped>\n",
       "    .dataframe tbody tr th:only-of-type {\n",
       "        vertical-align: middle;\n",
       "    }\n",
       "\n",
       "    .dataframe tbody tr th {\n",
       "        vertical-align: top;\n",
       "    }\n",
       "\n",
       "    .dataframe thead th {\n",
       "        text-align: right;\n",
       "    }\n",
       "</style>\n",
       "<table border=\"1\" class=\"dataframe\">\n",
       "  <thead>\n",
       "    <tr style=\"text-align: right;\">\n",
       "      <th></th>\n",
       "      <th>id</th>\n",
       "      <th>grp</th>\n",
       "    </tr>\n",
       "  </thead>\n",
       "  <tbody>\n",
       "  </tbody>\n",
       "</table>\n",
       "</div>"
      ],
      "text/plain": [
       "Empty DataFrame\n",
       "Columns: [id, grp]\n",
       "Index: []"
      ]
     },
     "execution_count": 57,
     "metadata": {},
     "output_type": "execute_result"
    }
   ],
   "source": [
    "# Проверка на дубликаты\n",
    "groups_add[groups_add.id.isin(groups.id)]"
   ]
  },
  {
   "cell_type": "code",
   "execution_count": 58,
   "metadata": {},
   "outputs": [
    {
     "data": {
      "text/html": [
       "<div>\n",
       "<style scoped>\n",
       "    .dataframe tbody tr th:only-of-type {\n",
       "        vertical-align: middle;\n",
       "    }\n",
       "\n",
       "    .dataframe tbody tr th {\n",
       "        vertical-align: top;\n",
       "    }\n",
       "\n",
       "    .dataframe thead th {\n",
       "        text-align: right;\n",
       "    }\n",
       "</style>\n",
       "<table border=\"1\" class=\"dataframe\">\n",
       "  <thead>\n",
       "    <tr style=\"text-align: right;\">\n",
       "      <th></th>\n",
       "      <th>student_id</th>\n",
       "    </tr>\n",
       "  </thead>\n",
       "  <tbody>\n",
       "    <tr>\n",
       "      <th>0</th>\n",
       "      <td>581585</td>\n",
       "    </tr>\n",
       "    <tr>\n",
       "      <th>1</th>\n",
       "      <td>5723133</td>\n",
       "    </tr>\n",
       "    <tr>\n",
       "      <th>2</th>\n",
       "      <td>3276743</td>\n",
       "    </tr>\n",
       "  </tbody>\n",
       "</table>\n",
       "</div>"
      ],
      "text/plain": [
       "   student_id\n",
       "0      581585\n",
       "1     5723133\n",
       "2     3276743"
      ]
     },
     "execution_count": 58,
     "metadata": {},
     "output_type": "execute_result"
    }
   ],
   "source": [
    "active_studs.head(3)"
   ]
  },
  {
   "cell_type": "code",
   "execution_count": 59,
   "metadata": {},
   "outputs": [
    {
     "data": {
      "text/plain": [
       "(8341, 1)"
      ]
     },
     "execution_count": 59,
     "metadata": {},
     "output_type": "execute_result"
    }
   ],
   "source": [
    "active_studs.shape"
   ]
  },
  {
   "cell_type": "code",
   "execution_count": 60,
   "metadata": {},
   "outputs": [
    {
     "data": {
      "text/html": [
       "<div>\n",
       "<style scoped>\n",
       "    .dataframe tbody tr th:only-of-type {\n",
       "        vertical-align: middle;\n",
       "    }\n",
       "\n",
       "    .dataframe tbody tr th {\n",
       "        vertical-align: top;\n",
       "    }\n",
       "\n",
       "    .dataframe thead th {\n",
       "        text-align: right;\n",
       "    }\n",
       "</style>\n",
       "<table border=\"1\" class=\"dataframe\">\n",
       "  <thead>\n",
       "    <tr style=\"text-align: right;\">\n",
       "      <th></th>\n",
       "      <th>student_id</th>\n",
       "      <th>rev</th>\n",
       "    </tr>\n",
       "  </thead>\n",
       "  <tbody>\n",
       "    <tr>\n",
       "      <th>0</th>\n",
       "      <td>1627</td>\n",
       "      <td>990.0</td>\n",
       "    </tr>\n",
       "    <tr>\n",
       "      <th>1</th>\n",
       "      <td>3185</td>\n",
       "      <td>690.0</td>\n",
       "    </tr>\n",
       "    <tr>\n",
       "      <th>2</th>\n",
       "      <td>25973</td>\n",
       "      <td>690.0</td>\n",
       "    </tr>\n",
       "  </tbody>\n",
       "</table>\n",
       "</div>"
      ],
      "text/plain": [
       "   student_id    rev\n",
       "0        1627  990.0\n",
       "1        3185  690.0\n",
       "2       25973  690.0"
      ]
     },
     "execution_count": 60,
     "metadata": {},
     "output_type": "execute_result"
    }
   ],
   "source": [
    "checks.head(3)"
   ]
  },
  {
   "cell_type": "code",
   "execution_count": 61,
   "metadata": {},
   "outputs": [
    {
     "data": {
      "text/plain": [
       "(541, 2)"
      ]
     },
     "execution_count": 61,
     "metadata": {},
     "output_type": "execute_result"
    }
   ],
   "source": [
    "checks.shape"
   ]
  },
  {
   "cell_type": "code",
   "execution_count": 62,
   "metadata": {},
   "outputs": [
    {
     "data": {
      "text/html": [
       "<div>\n",
       "<style scoped>\n",
       "    .dataframe tbody tr th:only-of-type {\n",
       "        vertical-align: middle;\n",
       "    }\n",
       "\n",
       "    .dataframe tbody tr th {\n",
       "        vertical-align: top;\n",
       "    }\n",
       "\n",
       "    .dataframe thead th {\n",
       "        text-align: right;\n",
       "    }\n",
       "</style>\n",
       "<table border=\"1\" class=\"dataframe\">\n",
       "  <thead>\n",
       "    <tr style=\"text-align: right;\">\n",
       "      <th></th>\n",
       "      <th>student_id</th>\n",
       "      <th>rev</th>\n",
       "    </tr>\n",
       "  </thead>\n",
       "  <tbody>\n",
       "    <tr>\n",
       "      <th>count</th>\n",
       "      <td>5.410000e+02</td>\n",
       "      <td>541.000000</td>\n",
       "    </tr>\n",
       "    <tr>\n",
       "      <th>mean</th>\n",
       "      <td>2.514772e+06</td>\n",
       "      <td>1059.752317</td>\n",
       "    </tr>\n",
       "    <tr>\n",
       "      <th>std</th>\n",
       "      <td>1.726839e+06</td>\n",
       "      <td>762.712359</td>\n",
       "    </tr>\n",
       "    <tr>\n",
       "      <th>min</th>\n",
       "      <td>1.627000e+03</td>\n",
       "      <td>199.000000</td>\n",
       "    </tr>\n",
       "    <tr>\n",
       "      <th>25%</th>\n",
       "      <td>9.871290e+05</td>\n",
       "      <td>290.000000</td>\n",
       "    </tr>\n",
       "    <tr>\n",
       "      <th>50%</th>\n",
       "      <td>2.526021e+06</td>\n",
       "      <td>840.000000</td>\n",
       "    </tr>\n",
       "    <tr>\n",
       "      <th>75%</th>\n",
       "      <td>3.993249e+06</td>\n",
       "      <td>1900.000000</td>\n",
       "    </tr>\n",
       "    <tr>\n",
       "      <th>max</th>\n",
       "      <td>5.740903e+06</td>\n",
       "      <td>4650.000000</td>\n",
       "    </tr>\n",
       "  </tbody>\n",
       "</table>\n",
       "</div>"
      ],
      "text/plain": [
       "         student_id          rev\n",
       "count  5.410000e+02   541.000000\n",
       "mean   2.514772e+06  1059.752317\n",
       "std    1.726839e+06   762.712359\n",
       "min    1.627000e+03   199.000000\n",
       "25%    9.871290e+05   290.000000\n",
       "50%    2.526021e+06   840.000000\n",
       "75%    3.993249e+06  1900.000000\n",
       "max    5.740903e+06  4650.000000"
      ]
     },
     "execution_count": 62,
     "metadata": {},
     "output_type": "execute_result"
    }
   ],
   "source": [
    "checks.describe()"
   ]
  },
  {
   "cell_type": "markdown",
   "metadata": {},
   "source": [
    "##### Покупали ли что-то дополнительные пользователи?\n"
   ]
  },
  {
   "cell_type": "code",
   "execution_count": 63,
   "metadata": {},
   "outputs": [
    {
     "data": {
      "text/html": [
       "<div>\n",
       "<style scoped>\n",
       "    .dataframe tbody tr th:only-of-type {\n",
       "        vertical-align: middle;\n",
       "    }\n",
       "\n",
       "    .dataframe tbody tr th {\n",
       "        vertical-align: top;\n",
       "    }\n",
       "\n",
       "    .dataframe thead th {\n",
       "        text-align: right;\n",
       "    }\n",
       "</style>\n",
       "<table border=\"1\" class=\"dataframe\">\n",
       "  <thead>\n",
       "    <tr style=\"text-align: right;\">\n",
       "      <th></th>\n",
       "      <th>id</th>\n",
       "      <th>grp</th>\n",
       "      <th>student_id</th>\n",
       "      <th>rev</th>\n",
       "    </tr>\n",
       "  </thead>\n",
       "  <tbody>\n",
       "    <tr>\n",
       "      <th>0</th>\n",
       "      <td>5740903</td>\n",
       "      <td>B</td>\n",
       "      <td>5740903</td>\n",
       "      <td>1900.0</td>\n",
       "    </tr>\n",
       "  </tbody>\n",
       "</table>\n",
       "</div>"
      ],
      "text/plain": [
       "        id grp  student_id     rev\n",
       "0  5740903   B     5740903  1900.0"
      ]
     },
     "execution_count": 63,
     "metadata": {},
     "output_type": "execute_result"
    }
   ],
   "source": [
    "groups_add.merge(checks, left_on='id', right_on='student_id')"
   ]
  },
  {
   "cell_type": "markdown",
   "metadata": {},
   "source": [
    "##### Сколько активных пользователей было среди добавленных?\n"
   ]
  },
  {
   "cell_type": "code",
   "execution_count": 64,
   "metadata": {},
   "outputs": [
    {
     "name": "stdout",
     "output_type": "stream",
     "text": [
      "Процент активных пользователей из добавленной группы от всех активных пользователей - 0.156\n"
     ]
    }
   ],
   "source": [
    "active_users = (groups_add[groups_add.id.isin(\n",
    "    active_studs.student_id)].shape[0] / active_studs.shape[0] * 100)\n",
    "\n",
    "print(\n",
    "    f\"Процент активных пользователей из добавленной группы от всех активных пользователей - {round(active_users, 3)}\")"
   ]
  },
  {
   "cell_type": "markdown",
   "metadata": {},
   "source": [
    "##### Создание общего df\n"
   ]
  },
  {
   "cell_type": "code",
   "execution_count": 65,
   "metadata": {},
   "outputs": [
    {
     "name": "stdout",
     "output_type": "stream",
     "text": [
      "True\n"
     ]
    }
   ],
   "source": [
    "groups_all = pd.concat([groups, groups_add], ignore_index=True)\n",
    "\n",
    "groups_all = pd.get_dummies(groups_all)\n",
    "\n",
    "groups_all = groups_all.merge(\n",
    "    active_studs, left_on='id', right_on='student_id', how='left')\n",
    "groups_all = groups_all.merge(\n",
    "    checks, left_on='id', right_on='student_id', how='left')\n",
    "\n",
    "groups_all = groups_all.drop(columns='student_id_y').rename(\n",
    "    columns={'student_id_x': 'active_users'})\n",
    "\n",
    "groups_all['active_users'] = groups_all['active_users'].apply(\n",
    "    lambda x: 1 if x > 0 else 0)\n",
    "\n",
    "groups_all = groups_all.astype({'grp_A': int, 'grp_B': int})\n",
    "\n",
    "# Проверка, что строк нужное количество\n",
    "print(groups_all.shape[0] - groups.shape[0] == groups_add.shape[0])"
   ]
  },
  {
   "cell_type": "code",
   "execution_count": 66,
   "metadata": {},
   "outputs": [
    {
     "data": {
      "text/html": [
       "<div>\n",
       "<style scoped>\n",
       "    .dataframe tbody tr th:only-of-type {\n",
       "        vertical-align: middle;\n",
       "    }\n",
       "\n",
       "    .dataframe tbody tr th {\n",
       "        vertical-align: top;\n",
       "    }\n",
       "\n",
       "    .dataframe thead th {\n",
       "        text-align: right;\n",
       "    }\n",
       "</style>\n",
       "<table border=\"1\" class=\"dataframe\">\n",
       "  <thead>\n",
       "    <tr style=\"text-align: right;\">\n",
       "      <th></th>\n",
       "      <th>id</th>\n",
       "      <th>grp_A</th>\n",
       "      <th>grp_B</th>\n",
       "      <th>active_users</th>\n",
       "      <th>rev</th>\n",
       "    </tr>\n",
       "  </thead>\n",
       "  <tbody>\n",
       "    <tr>\n",
       "      <th>0</th>\n",
       "      <td>1489</td>\n",
       "      <td>0</td>\n",
       "      <td>1</td>\n",
       "      <td>0</td>\n",
       "      <td>NaN</td>\n",
       "    </tr>\n",
       "    <tr>\n",
       "      <th>1</th>\n",
       "      <td>1627</td>\n",
       "      <td>1</td>\n",
       "      <td>0</td>\n",
       "      <td>1</td>\n",
       "      <td>990.0</td>\n",
       "    </tr>\n",
       "    <tr>\n",
       "      <th>2</th>\n",
       "      <td>1768</td>\n",
       "      <td>0</td>\n",
       "      <td>1</td>\n",
       "      <td>0</td>\n",
       "      <td>NaN</td>\n",
       "    </tr>\n",
       "    <tr>\n",
       "      <th>3</th>\n",
       "      <td>1783</td>\n",
       "      <td>0</td>\n",
       "      <td>1</td>\n",
       "      <td>0</td>\n",
       "      <td>NaN</td>\n",
       "    </tr>\n",
       "    <tr>\n",
       "      <th>4</th>\n",
       "      <td>1794</td>\n",
       "      <td>1</td>\n",
       "      <td>0</td>\n",
       "      <td>0</td>\n",
       "      <td>NaN</td>\n",
       "    </tr>\n",
       "    <tr>\n",
       "      <th>...</th>\n",
       "      <td>...</td>\n",
       "      <td>...</td>\n",
       "      <td>...</td>\n",
       "      <td>...</td>\n",
       "      <td>...</td>\n",
       "    </tr>\n",
       "    <tr>\n",
       "      <th>74571</th>\n",
       "      <td>200247820</td>\n",
       "      <td>0</td>\n",
       "      <td>1</td>\n",
       "      <td>0</td>\n",
       "      <td>NaN</td>\n",
       "    </tr>\n",
       "    <tr>\n",
       "      <th>74572</th>\n",
       "      <td>201032527</td>\n",
       "      <td>0</td>\n",
       "      <td>1</td>\n",
       "      <td>0</td>\n",
       "      <td>NaN</td>\n",
       "    </tr>\n",
       "    <tr>\n",
       "      <th>74573</th>\n",
       "      <td>201067612</td>\n",
       "      <td>0</td>\n",
       "      <td>1</td>\n",
       "      <td>0</td>\n",
       "      <td>NaN</td>\n",
       "    </tr>\n",
       "    <tr>\n",
       "      <th>74574</th>\n",
       "      <td>201067653</td>\n",
       "      <td>0</td>\n",
       "      <td>1</td>\n",
       "      <td>0</td>\n",
       "      <td>NaN</td>\n",
       "    </tr>\n",
       "    <tr>\n",
       "      <th>74575</th>\n",
       "      <td>201067659</td>\n",
       "      <td>0</td>\n",
       "      <td>1</td>\n",
       "      <td>0</td>\n",
       "      <td>NaN</td>\n",
       "    </tr>\n",
       "  </tbody>\n",
       "</table>\n",
       "<p>74576 rows × 5 columns</p>\n",
       "</div>"
      ],
      "text/plain": [
       "              id  grp_A  grp_B  active_users    rev\n",
       "0           1489      0      1             0    NaN\n",
       "1           1627      1      0             1  990.0\n",
       "2           1768      0      1             0    NaN\n",
       "3           1783      0      1             0    NaN\n",
       "4           1794      1      0             0    NaN\n",
       "...          ...    ...    ...           ...    ...\n",
       "74571  200247820      0      1             0    NaN\n",
       "74572  201032527      0      1             0    NaN\n",
       "74573  201067612      0      1             0    NaN\n",
       "74574  201067653      0      1             0    NaN\n",
       "74575  201067659      0      1             0    NaN\n",
       "\n",
       "[74576 rows x 5 columns]"
      ]
     },
     "execution_count": 66,
     "metadata": {},
     "output_type": "execute_result"
    }
   ],
   "source": [
    "groups_all"
   ]
  },
  {
   "cell_type": "code",
   "execution_count": 67,
   "metadata": {},
   "outputs": [
    {
     "data": {
      "text/html": [
       "<div>\n",
       "<style scoped>\n",
       "    .dataframe tbody tr th:only-of-type {\n",
       "        vertical-align: middle;\n",
       "    }\n",
       "\n",
       "    .dataframe tbody tr th {\n",
       "        vertical-align: top;\n",
       "    }\n",
       "\n",
       "    .dataframe thead th {\n",
       "        text-align: right;\n",
       "    }\n",
       "</style>\n",
       "<table border=\"1\" class=\"dataframe\">\n",
       "  <thead>\n",
       "    <tr style=\"text-align: right;\">\n",
       "      <th></th>\n",
       "      <th>id</th>\n",
       "      <th>grp_A</th>\n",
       "      <th>grp_B</th>\n",
       "      <th>active_users</th>\n",
       "      <th>rev</th>\n",
       "    </tr>\n",
       "  </thead>\n",
       "  <tbody>\n",
       "    <tr>\n",
       "      <th>count</th>\n",
       "      <td>7.457600e+04</td>\n",
       "      <td>74576.000000</td>\n",
       "      <td>74576.000000</td>\n",
       "      <td>74576.000000</td>\n",
       "      <td>541.000000</td>\n",
       "    </tr>\n",
       "    <tr>\n",
       "      <th>mean</th>\n",
       "      <td>2.165617e+06</td>\n",
       "      <td>0.197020</td>\n",
       "      <td>0.802980</td>\n",
       "      <td>0.111846</td>\n",
       "      <td>1059.752317</td>\n",
       "    </tr>\n",
       "    <tr>\n",
       "      <th>std</th>\n",
       "      <td>2.786959e+06</td>\n",
       "      <td>0.397751</td>\n",
       "      <td>0.397751</td>\n",
       "      <td>0.315179</td>\n",
       "      <td>762.712359</td>\n",
       "    </tr>\n",
       "    <tr>\n",
       "      <th>min</th>\n",
       "      <td>1.489000e+03</td>\n",
       "      <td>0.000000</td>\n",
       "      <td>0.000000</td>\n",
       "      <td>0.000000</td>\n",
       "      <td>199.000000</td>\n",
       "    </tr>\n",
       "    <tr>\n",
       "      <th>25%</th>\n",
       "      <td>9.197188e+05</td>\n",
       "      <td>0.000000</td>\n",
       "      <td>1.000000</td>\n",
       "      <td>0.000000</td>\n",
       "      <td>290.000000</td>\n",
       "    </tr>\n",
       "    <tr>\n",
       "      <th>50%</th>\n",
       "      <td>1.669752e+06</td>\n",
       "      <td>0.000000</td>\n",
       "      <td>1.000000</td>\n",
       "      <td>0.000000</td>\n",
       "      <td>840.000000</td>\n",
       "    </tr>\n",
       "    <tr>\n",
       "      <th>75%</th>\n",
       "      <td>3.328121e+06</td>\n",
       "      <td>0.000000</td>\n",
       "      <td>1.000000</td>\n",
       "      <td>0.000000</td>\n",
       "      <td>1900.000000</td>\n",
       "    </tr>\n",
       "    <tr>\n",
       "      <th>max</th>\n",
       "      <td>2.010677e+08</td>\n",
       "      <td>1.000000</td>\n",
       "      <td>1.000000</td>\n",
       "      <td>1.000000</td>\n",
       "      <td>4650.000000</td>\n",
       "    </tr>\n",
       "  </tbody>\n",
       "</table>\n",
       "</div>"
      ],
      "text/plain": [
       "                 id         grp_A         grp_B  active_users          rev\n",
       "count  7.457600e+04  74576.000000  74576.000000  74576.000000   541.000000\n",
       "mean   2.165617e+06      0.197020      0.802980      0.111846  1059.752317\n",
       "std    2.786959e+06      0.397751      0.397751      0.315179   762.712359\n",
       "min    1.489000e+03      0.000000      0.000000      0.000000   199.000000\n",
       "25%    9.197188e+05      0.000000      1.000000      0.000000   290.000000\n",
       "50%    1.669752e+06      0.000000      1.000000      0.000000   840.000000\n",
       "75%    3.328121e+06      0.000000      1.000000      0.000000  1900.000000\n",
       "max    2.010677e+08      1.000000      1.000000      1.000000  4650.000000"
      ]
     },
     "execution_count": 67,
     "metadata": {},
     "output_type": "execute_result"
    }
   ],
   "source": [
    "groups_all.describe()"
   ]
  },
  {
   "cell_type": "markdown",
   "metadata": {},
   "source": [
    "##### Купили но не активные\n"
   ]
  },
  {
   "cell_type": "code",
   "execution_count": 68,
   "metadata": {},
   "outputs": [
    {
     "data": {
      "text/html": [
       "<div>\n",
       "<style scoped>\n",
       "    .dataframe tbody tr th:only-of-type {\n",
       "        vertical-align: middle;\n",
       "    }\n",
       "\n",
       "    .dataframe tbody tr th {\n",
       "        vertical-align: top;\n",
       "    }\n",
       "\n",
       "    .dataframe thead th {\n",
       "        text-align: right;\n",
       "    }\n",
       "</style>\n",
       "<table border=\"1\" class=\"dataframe\">\n",
       "  <thead>\n",
       "    <tr style=\"text-align: right;\">\n",
       "      <th></th>\n",
       "      <th>id</th>\n",
       "      <th>grp_A</th>\n",
       "      <th>grp_B</th>\n",
       "      <th>active_users</th>\n",
       "      <th>rev</th>\n",
       "    </tr>\n",
       "  </thead>\n",
       "  <tbody>\n",
       "    <tr>\n",
       "      <th>39</th>\n",
       "      <td>3185</td>\n",
       "      <td>0</td>\n",
       "      <td>1</td>\n",
       "      <td>0</td>\n",
       "      <td>690.0</td>\n",
       "    </tr>\n",
       "    <tr>\n",
       "      <th>121</th>\n",
       "      <td>25973</td>\n",
       "      <td>0</td>\n",
       "      <td>1</td>\n",
       "      <td>0</td>\n",
       "      <td>690.0</td>\n",
       "    </tr>\n",
       "    <tr>\n",
       "      <th>125</th>\n",
       "      <td>26280</td>\n",
       "      <td>0</td>\n",
       "      <td>1</td>\n",
       "      <td>0</td>\n",
       "      <td>690.0</td>\n",
       "    </tr>\n",
       "    <tr>\n",
       "      <th>223</th>\n",
       "      <td>100645</td>\n",
       "      <td>0</td>\n",
       "      <td>1</td>\n",
       "      <td>0</td>\n",
       "      <td>630.0</td>\n",
       "    </tr>\n",
       "    <tr>\n",
       "      <th>254</th>\n",
       "      <td>102534</td>\n",
       "      <td>0</td>\n",
       "      <td>1</td>\n",
       "      <td>0</td>\n",
       "      <td>580.0</td>\n",
       "    </tr>\n",
       "    <tr>\n",
       "      <th>...</th>\n",
       "      <td>...</td>\n",
       "      <td>...</td>\n",
       "      <td>...</td>\n",
       "      <td>...</td>\n",
       "      <td>...</td>\n",
       "    </tr>\n",
       "    <tr>\n",
       "      <th>72452</th>\n",
       "      <td>5291900</td>\n",
       "      <td>0</td>\n",
       "      <td>1</td>\n",
       "      <td>0</td>\n",
       "      <td>199.0</td>\n",
       "    </tr>\n",
       "    <tr>\n",
       "      <th>72753</th>\n",
       "      <td>5331842</td>\n",
       "      <td>0</td>\n",
       "      <td>1</td>\n",
       "      <td>0</td>\n",
       "      <td>290.0</td>\n",
       "    </tr>\n",
       "    <tr>\n",
       "      <th>73632</th>\n",
       "      <td>5486319</td>\n",
       "      <td>0</td>\n",
       "      <td>1</td>\n",
       "      <td>0</td>\n",
       "      <td>199.0</td>\n",
       "    </tr>\n",
       "    <tr>\n",
       "      <th>74049</th>\n",
       "      <td>5562806</td>\n",
       "      <td>0</td>\n",
       "      <td>1</td>\n",
       "      <td>0</td>\n",
       "      <td>398.0</td>\n",
       "    </tr>\n",
       "    <tr>\n",
       "      <th>74216</th>\n",
       "      <td>5599663</td>\n",
       "      <td>0</td>\n",
       "      <td>1</td>\n",
       "      <td>0</td>\n",
       "      <td>1900.0</td>\n",
       "    </tr>\n",
       "  </tbody>\n",
       "</table>\n",
       "<p>149 rows × 5 columns</p>\n",
       "</div>"
      ],
      "text/plain": [
       "            id  grp_A  grp_B  active_users     rev\n",
       "39        3185      0      1             0   690.0\n",
       "121      25973      0      1             0   690.0\n",
       "125      26280      0      1             0   690.0\n",
       "223     100645      0      1             0   630.0\n",
       "254     102534      0      1             0   580.0\n",
       "...        ...    ...    ...           ...     ...\n",
       "72452  5291900      0      1             0   199.0\n",
       "72753  5331842      0      1             0   290.0\n",
       "73632  5486319      0      1             0   199.0\n",
       "74049  5562806      0      1             0   398.0\n",
       "74216  5599663      0      1             0  1900.0\n",
       "\n",
       "[149 rows x 5 columns]"
      ]
     },
     "execution_count": 68,
     "metadata": {},
     "output_type": "execute_result"
    }
   ],
   "source": [
    "buy_but_not_active = groups_all.query(\"rev > 0 and active_users == 0\")\n",
    "buy_but_not_active"
   ]
  },
  {
   "cell_type": "markdown",
   "metadata": {},
   "source": [
    "У нас есть пользователи которые совершили покупку, но не были активны в дни проведения эксперемента\n"
   ]
  },
  {
   "cell_type": "code",
   "execution_count": 69,
   "metadata": {},
   "outputs": [
    {
     "data": {
      "text/html": [
       "<div>\n",
       "<style scoped>\n",
       "    .dataframe tbody tr th:only-of-type {\n",
       "        vertical-align: middle;\n",
       "    }\n",
       "\n",
       "    .dataframe tbody tr th {\n",
       "        vertical-align: top;\n",
       "    }\n",
       "\n",
       "    .dataframe thead th {\n",
       "        text-align: right;\n",
       "    }\n",
       "</style>\n",
       "<table border=\"1\" class=\"dataframe\">\n",
       "  <thead>\n",
       "    <tr style=\"text-align: right;\">\n",
       "      <th></th>\n",
       "      <th>id</th>\n",
       "      <th>grp_A</th>\n",
       "      <th>grp_B</th>\n",
       "      <th>active_users</th>\n",
       "      <th>rev</th>\n",
       "    </tr>\n",
       "  </thead>\n",
       "  <tbody>\n",
       "    <tr>\n",
       "      <th>count</th>\n",
       "      <td>1.490000e+02</td>\n",
       "      <td>149.000000</td>\n",
       "      <td>149.000000</td>\n",
       "      <td>149.0</td>\n",
       "      <td>149.000000</td>\n",
       "    </tr>\n",
       "    <tr>\n",
       "      <th>mean</th>\n",
       "      <td>1.636284e+06</td>\n",
       "      <td>0.194631</td>\n",
       "      <td>0.805369</td>\n",
       "      <td>0.0</td>\n",
       "      <td>708.268457</td>\n",
       "    </tr>\n",
       "    <tr>\n",
       "      <th>std</th>\n",
       "      <td>1.699466e+06</td>\n",
       "      <td>0.397252</td>\n",
       "      <td>0.397252</td>\n",
       "      <td>0.0</td>\n",
       "      <td>378.699192</td>\n",
       "    </tr>\n",
       "    <tr>\n",
       "      <th>min</th>\n",
       "      <td>3.185000e+03</td>\n",
       "      <td>0.000000</td>\n",
       "      <td>0.000000</td>\n",
       "      <td>0.0</td>\n",
       "      <td>199.000000</td>\n",
       "    </tr>\n",
       "    <tr>\n",
       "      <th>25%</th>\n",
       "      <td>4.028350e+05</td>\n",
       "      <td>0.000000</td>\n",
       "      <td>1.000000</td>\n",
       "      <td>0.0</td>\n",
       "      <td>290.000000</td>\n",
       "    </tr>\n",
       "    <tr>\n",
       "      <th>50%</th>\n",
       "      <td>4.601440e+05</td>\n",
       "      <td>0.000000</td>\n",
       "      <td>1.000000</td>\n",
       "      <td>0.0</td>\n",
       "      <td>690.000000</td>\n",
       "    </tr>\n",
       "    <tr>\n",
       "      <th>75%</th>\n",
       "      <td>3.044093e+06</td>\n",
       "      <td>0.000000</td>\n",
       "      <td>1.000000</td>\n",
       "      <td>0.0</td>\n",
       "      <td>990.000000</td>\n",
       "    </tr>\n",
       "    <tr>\n",
       "      <th>max</th>\n",
       "      <td>5.599663e+06</td>\n",
       "      <td>1.000000</td>\n",
       "      <td>1.000000</td>\n",
       "      <td>0.0</td>\n",
       "      <td>1980.000000</td>\n",
       "    </tr>\n",
       "  </tbody>\n",
       "</table>\n",
       "</div>"
      ],
      "text/plain": [
       "                 id       grp_A       grp_B  active_users          rev\n",
       "count  1.490000e+02  149.000000  149.000000         149.0   149.000000\n",
       "mean   1.636284e+06    0.194631    0.805369           0.0   708.268457\n",
       "std    1.699466e+06    0.397252    0.397252           0.0   378.699192\n",
       "min    3.185000e+03    0.000000    0.000000           0.0   199.000000\n",
       "25%    4.028350e+05    0.000000    1.000000           0.0   290.000000\n",
       "50%    4.601440e+05    0.000000    1.000000           0.0   690.000000\n",
       "75%    3.044093e+06    0.000000    1.000000           0.0   990.000000\n",
       "max    5.599663e+06    1.000000    1.000000           0.0  1980.000000"
      ]
     },
     "execution_count": 69,
     "metadata": {},
     "output_type": "execute_result"
    }
   ],
   "source": [
    "buy_but_not_active.describe()"
   ]
  },
  {
   "cell_type": "markdown",
   "metadata": {},
   "source": [
    "80% пользователей совершивших покупку, но не активных находились в группе B\n"
   ]
  },
  {
   "cell_type": "code",
   "execution_count": 70,
   "metadata": {},
   "outputs": [],
   "source": [
    "# Удалим аномальные значения\n",
    "\n",
    "groups_all = groups_all[~groups_all.apply(tuple, axis=1).isin(\n",
    "    buy_but_not_active.apply(tuple, axis=1))]"
   ]
  },
  {
   "cell_type": "markdown",
   "metadata": {},
   "source": [
    "##### Разбиение на группы\n"
   ]
  },
  {
   "cell_type": "code",
   "execution_count": 71,
   "metadata": {},
   "outputs": [],
   "source": [
    "groups_all['purchase'] = groups_all['rev'].apply(lambda x: 1 if x > 0 else 0)"
   ]
  },
  {
   "cell_type": "code",
   "execution_count": 72,
   "metadata": {},
   "outputs": [],
   "source": [
    "control_group = groups_all[groups_all.grp_A == 1][[\n",
    "    'id', 'grp_A', 'active_users', 'rev', 'purchase']]\n",
    "test_group = groups_all[groups_all.grp_B == 1][[\n",
    "    'id', 'grp_B', 'active_users', 'rev', 'purchase']]"
   ]
  },
  {
   "cell_type": "code",
   "execution_count": 73,
   "metadata": {},
   "outputs": [
    {
     "data": {
      "text/html": [
       "<div>\n",
       "<style scoped>\n",
       "    .dataframe tbody tr th:only-of-type {\n",
       "        vertical-align: middle;\n",
       "    }\n",
       "\n",
       "    .dataframe tbody tr th {\n",
       "        vertical-align: top;\n",
       "    }\n",
       "\n",
       "    .dataframe thead th {\n",
       "        text-align: right;\n",
       "    }\n",
       "</style>\n",
       "<table border=\"1\" class=\"dataframe\">\n",
       "  <thead>\n",
       "    <tr style=\"text-align: right;\">\n",
       "      <th></th>\n",
       "      <th>id</th>\n",
       "      <th>grp_A</th>\n",
       "      <th>active_users</th>\n",
       "      <th>rev</th>\n",
       "      <th>purchase</th>\n",
       "    </tr>\n",
       "  </thead>\n",
       "  <tbody>\n",
       "    <tr>\n",
       "      <th>count</th>\n",
       "      <td>1.466400e+04</td>\n",
       "      <td>14664.0</td>\n",
       "      <td>14664.000000</td>\n",
       "      <td>78.000000</td>\n",
       "      <td>14664.000000</td>\n",
       "    </tr>\n",
       "    <tr>\n",
       "      <th>mean</th>\n",
       "      <td>2.171438e+06</td>\n",
       "      <td>1.0</td>\n",
       "      <td>0.104883</td>\n",
       "      <td>933.589744</td>\n",
       "      <td>0.005319</td>\n",
       "    </tr>\n",
       "    <tr>\n",
       "      <th>std</th>\n",
       "      <td>3.222890e+06</td>\n",
       "      <td>0.0</td>\n",
       "      <td>0.306413</td>\n",
       "      <td>919.932711</td>\n",
       "      <td>0.072741</td>\n",
       "    </tr>\n",
       "    <tr>\n",
       "      <th>min</th>\n",
       "      <td>1.627000e+03</td>\n",
       "      <td>1.0</td>\n",
       "      <td>0.000000</td>\n",
       "      <td>199.000000</td>\n",
       "      <td>0.000000</td>\n",
       "    </tr>\n",
       "    <tr>\n",
       "      <th>25%</th>\n",
       "      <td>9.235240e+05</td>\n",
       "      <td>1.0</td>\n",
       "      <td>0.000000</td>\n",
       "      <td>290.000000</td>\n",
       "      <td>0.000000</td>\n",
       "    </tr>\n",
       "    <tr>\n",
       "      <th>50%</th>\n",
       "      <td>1.656766e+06</td>\n",
       "      <td>1.0</td>\n",
       "      <td>0.000000</td>\n",
       "      <td>585.000000</td>\n",
       "      <td>0.000000</td>\n",
       "    </tr>\n",
       "    <tr>\n",
       "      <th>75%</th>\n",
       "      <td>3.320785e+06</td>\n",
       "      <td>1.0</td>\n",
       "      <td>0.000000</td>\n",
       "      <td>1114.750000</td>\n",
       "      <td>0.000000</td>\n",
       "    </tr>\n",
       "    <tr>\n",
       "      <th>max</th>\n",
       "      <td>2.002478e+08</td>\n",
       "      <td>1.0</td>\n",
       "      <td>1.000000</td>\n",
       "      <td>3660.000000</td>\n",
       "      <td>1.000000</td>\n",
       "    </tr>\n",
       "  </tbody>\n",
       "</table>\n",
       "</div>"
      ],
      "text/plain": [
       "                 id    grp_A  active_users          rev      purchase\n",
       "count  1.466400e+04  14664.0  14664.000000    78.000000  14664.000000\n",
       "mean   2.171438e+06      1.0      0.104883   933.589744      0.005319\n",
       "std    3.222890e+06      0.0      0.306413   919.932711      0.072741\n",
       "min    1.627000e+03      1.0      0.000000   199.000000      0.000000\n",
       "25%    9.235240e+05      1.0      0.000000   290.000000      0.000000\n",
       "50%    1.656766e+06      1.0      0.000000   585.000000      0.000000\n",
       "75%    3.320785e+06      1.0      0.000000  1114.750000      0.000000\n",
       "max    2.002478e+08      1.0      1.000000  3660.000000      1.000000"
      ]
     },
     "execution_count": 73,
     "metadata": {},
     "output_type": "execute_result"
    }
   ],
   "source": [
    "control_group.describe()"
   ]
  },
  {
   "cell_type": "code",
   "execution_count": 74,
   "metadata": {},
   "outputs": [
    {
     "data": {
      "text/html": [
       "<div>\n",
       "<style scoped>\n",
       "    .dataframe tbody tr th:only-of-type {\n",
       "        vertical-align: middle;\n",
       "    }\n",
       "\n",
       "    .dataframe tbody tr th {\n",
       "        vertical-align: top;\n",
       "    }\n",
       "\n",
       "    .dataframe thead th {\n",
       "        text-align: right;\n",
       "    }\n",
       "</style>\n",
       "<table border=\"1\" class=\"dataframe\">\n",
       "  <thead>\n",
       "    <tr style=\"text-align: right;\">\n",
       "      <th></th>\n",
       "      <th>id</th>\n",
       "      <th>grp_B</th>\n",
       "      <th>active_users</th>\n",
       "      <th>rev</th>\n",
       "      <th>purchase</th>\n",
       "    </tr>\n",
       "  </thead>\n",
       "  <tbody>\n",
       "    <tr>\n",
       "      <th>count</th>\n",
       "      <td>5.976300e+04</td>\n",
       "      <td>59763.0</td>\n",
       "      <td>59763.000000</td>\n",
       "      <td>314.000000</td>\n",
       "      <td>59763.000000</td>\n",
       "    </tr>\n",
       "    <tr>\n",
       "      <th>mean</th>\n",
       "      <td>2.165508e+06</td>\n",
       "      <td>1.0</td>\n",
       "      <td>0.113833</td>\n",
       "      <td>1257.878992</td>\n",
       "      <td>0.005254</td>\n",
       "    </tr>\n",
       "    <tr>\n",
       "      <th>std</th>\n",
       "      <td>2.671324e+06</td>\n",
       "      <td>0.0</td>\n",
       "      <td>0.317611</td>\n",
       "      <td>790.864254</td>\n",
       "      <td>0.072295</td>\n",
       "    </tr>\n",
       "    <tr>\n",
       "      <th>min</th>\n",
       "      <td>1.489000e+03</td>\n",
       "      <td>1.0</td>\n",
       "      <td>0.000000</td>\n",
       "      <td>199.000000</td>\n",
       "      <td>0.000000</td>\n",
       "    </tr>\n",
       "    <tr>\n",
       "      <th>25%</th>\n",
       "      <td>9.233500e+05</td>\n",
       "      <td>1.0</td>\n",
       "      <td>0.000000</td>\n",
       "      <td>511.750000</td>\n",
       "      <td>0.000000</td>\n",
       "    </tr>\n",
       "    <tr>\n",
       "      <th>50%</th>\n",
       "      <td>1.677322e+06</td>\n",
       "      <td>1.0</td>\n",
       "      <td>0.000000</td>\n",
       "      <td>1140.000000</td>\n",
       "      <td>0.000000</td>\n",
       "    </tr>\n",
       "    <tr>\n",
       "      <th>75%</th>\n",
       "      <td>3.329294e+06</td>\n",
       "      <td>1.0</td>\n",
       "      <td>0.000000</td>\n",
       "      <td>1900.000000</td>\n",
       "      <td>0.000000</td>\n",
       "    </tr>\n",
       "    <tr>\n",
       "      <th>max</th>\n",
       "      <td>2.010677e+08</td>\n",
       "      <td>1.0</td>\n",
       "      <td>1.000000</td>\n",
       "      <td>4650.000000</td>\n",
       "      <td>1.000000</td>\n",
       "    </tr>\n",
       "  </tbody>\n",
       "</table>\n",
       "</div>"
      ],
      "text/plain": [
       "                 id    grp_B  active_users          rev      purchase\n",
       "count  5.976300e+04  59763.0  59763.000000   314.000000  59763.000000\n",
       "mean   2.165508e+06      1.0      0.113833  1257.878992      0.005254\n",
       "std    2.671324e+06      0.0      0.317611   790.864254      0.072295\n",
       "min    1.489000e+03      1.0      0.000000   199.000000      0.000000\n",
       "25%    9.233500e+05      1.0      0.000000   511.750000      0.000000\n",
       "50%    1.677322e+06      1.0      0.000000  1140.000000      0.000000\n",
       "75%    3.329294e+06      1.0      0.000000  1900.000000      0.000000\n",
       "max    2.010677e+08      1.0      1.000000  4650.000000      1.000000"
      ]
     },
     "execution_count": 74,
     "metadata": {},
     "output_type": "execute_result"
    }
   ],
   "source": [
    "test_group.describe()"
   ]
  },
  {
   "cell_type": "code",
   "execution_count": 75,
   "metadata": {},
   "outputs": [
    {
     "name": "stdout",
     "output_type": "stream",
     "text": [
      "Число пользователей в контрольной группе - 1538\n"
     ]
    }
   ],
   "source": [
    "print(\n",
    "    f\"Число пользователей в контрольной группе - {control_group.query('active_users == 1').shape[0]}\")"
   ]
  },
  {
   "cell_type": "code",
   "execution_count": 76,
   "metadata": {},
   "outputs": [
    {
     "name": "stdout",
     "output_type": "stream",
     "text": [
      "Число пользователей в тестовой группе - 6803\n"
     ]
    }
   ],
   "source": [
    "print(\n",
    "    f\"Число пользователей в тестовой группе - {test_group.query('active_users == 1').shape[0]}\")"
   ]
  },
  {
   "cell_type": "markdown",
   "metadata": {},
   "source": [
    "##### Увеличивается ли конверсия в оплату среди зашедших на платформу (CR)\n",
    "\n",
    "Смотрим на эту метрику так, как нам важно чтобы люди чаще переходили к оплате и чтобы для них это было удобно делать\n"
   ]
  },
  {
   "cell_type": "code",
   "execution_count": 77,
   "metadata": {},
   "outputs": [
    {
     "data": {
      "image/png": "[encoded data removed]",
      "text/plain": [
       "<Figure size 640x480 with 1 Axes>"
      ]
     },
     "metadata": {},
     "output_type": "display_data"
    }
   ],
   "source": [
    "combined_data = pd.concat([\n",
    "    control_group.query(\"active_users == 1\").assign(group='Control'),\n",
    "    test_group.query(\"active_users == 1\").assign(group='Test')\n",
    "])\n",
    "\n",
    "sns.violinplot(x='group', y='purchase', data=combined_data)\n",
    "plt.show()"
   ]
  },
  {
   "cell_type": "code",
   "execution_count": 78,
   "metadata": {},
   "outputs": [
    {
     "data": {
      "text/html": [
       "<div>\n",
       "<style scoped>\n",
       "    .dataframe tbody tr th:only-of-type {\n",
       "        vertical-align: middle;\n",
       "    }\n",
       "\n",
       "    .dataframe tbody tr th {\n",
       "        vertical-align: top;\n",
       "    }\n",
       "\n",
       "    .dataframe thead th {\n",
       "        text-align: right;\n",
       "    }\n",
       "</style>\n",
       "<table border=\"1\" class=\"dataframe\">\n",
       "  <thead>\n",
       "    <tr style=\"text-align: right;\">\n",
       "      <th></th>\n",
       "      <th>W</th>\n",
       "      <th>pval</th>\n",
       "      <th>normal</th>\n",
       "    </tr>\n",
       "  </thead>\n",
       "  <tbody>\n",
       "    <tr>\n",
       "      <th>purchase</th>\n",
       "      <td>0.212537</td>\n",
       "      <td>0.0</td>\n",
       "      <td>False</td>\n",
       "    </tr>\n",
       "  </tbody>\n",
       "</table>\n",
       "</div>"
      ],
      "text/plain": [
       "                 W  pval  normal\n",
       "purchase  0.212537   0.0   False"
      ]
     },
     "execution_count": 78,
     "metadata": {},
     "output_type": "execute_result"
    }
   ],
   "source": [
    "pg.normality(data=test_group.query(\"active_users == 1\").purchase)"
   ]
  },
  {
   "cell_type": "code",
   "execution_count": 79,
   "metadata": {},
   "outputs": [
    {
     "data": {
      "text/html": [
       "<div>\n",
       "<style scoped>\n",
       "    .dataframe tbody tr th:only-of-type {\n",
       "        vertical-align: middle;\n",
       "    }\n",
       "\n",
       "    .dataframe tbody tr th {\n",
       "        vertical-align: top;\n",
       "    }\n",
       "\n",
       "    .dataframe thead th {\n",
       "        text-align: right;\n",
       "    }\n",
       "</style>\n",
       "<table border=\"1\" class=\"dataframe\">\n",
       "  <thead>\n",
       "    <tr style=\"text-align: right;\">\n",
       "      <th></th>\n",
       "      <th>W</th>\n",
       "      <th>pval</th>\n",
       "      <th>normal</th>\n",
       "    </tr>\n",
       "  </thead>\n",
       "  <tbody>\n",
       "    <tr>\n",
       "      <th>purchase</th>\n",
       "      <td>0.225917</td>\n",
       "      <td>0.0</td>\n",
       "      <td>False</td>\n",
       "    </tr>\n",
       "  </tbody>\n",
       "</table>\n",
       "</div>"
      ],
      "text/plain": [
       "                 W  pval  normal\n",
       "purchase  0.225917   0.0   False"
      ]
     },
     "execution_count": 79,
     "metadata": {},
     "output_type": "execute_result"
    }
   ],
   "source": [
    "pg.normality(data=control_group.query(\"active_users == 1\").purchase)"
   ]
  },
  {
   "cell_type": "markdown",
   "metadata": {},
   "source": [
    "Распределение наших данных не является нормальным, но при нашем количестве данных это не проблема\n"
   ]
  },
  {
   "cell_type": "code",
   "execution_count": 80,
   "metadata": {},
   "outputs": [
    {
     "data": {
      "text/plain": [
       "LeveneResult(statistic=0.5820524099411407, pvalue=0.44553054513518253)"
      ]
     },
     "execution_count": 80,
     "metadata": {},
     "output_type": "execute_result"
    }
   ],
   "source": [
    "stats.levene(test_group.query(\"active_users == 1\").purchase,\n",
    "             control_group.query(\"active_users == 1\").purchase)"
   ]
  },
  {
   "cell_type": "markdown",
   "metadata": {},
   "source": [
    "Тест на дисперсии показал, что дисперсии в двух выборках равны\n"
   ]
  },
  {
   "cell_type": "markdown",
   "metadata": {},
   "source": [
    "Для проверки нашей гипотезы можем воспользоваться т-тестом\n",
    "\n",
    "**Сформулируем гипотезу**\n",
    "\n",
    "- H0 - Конверсии в оплату в двух группах равны\n",
    "- H1 - Конверсии различаются\n"
   ]
  },
  {
   "cell_type": "code",
   "execution_count": 81,
   "metadata": {},
   "outputs": [
    {
     "data": {
      "text/html": [
       "<div>\n",
       "<style scoped>\n",
       "    .dataframe tbody tr th:only-of-type {\n",
       "        vertical-align: middle;\n",
       "    }\n",
       "\n",
       "    .dataframe tbody tr th {\n",
       "        vertical-align: top;\n",
       "    }\n",
       "\n",
       "    .dataframe thead th {\n",
       "        text-align: right;\n",
       "    }\n",
       "</style>\n",
       "<table border=\"1\" class=\"dataframe\">\n",
       "  <thead>\n",
       "    <tr style=\"text-align: right;\">\n",
       "      <th></th>\n",
       "      <th>T</th>\n",
       "      <th>dof</th>\n",
       "      <th>alternative</th>\n",
       "      <th>p-val</th>\n",
       "      <th>CI95%</th>\n",
       "      <th>cohen-d</th>\n",
       "      <th>BF10</th>\n",
       "      <th>power</th>\n",
       "    </tr>\n",
       "  </thead>\n",
       "  <tbody>\n",
       "    <tr>\n",
       "      <th>T-test</th>\n",
       "      <td>-0.741585</td>\n",
       "      <td>2216.446607</td>\n",
       "      <td>two-sided</td>\n",
       "      <td>0.458417</td>\n",
       "      <td>[-0.02, 0.01]</td>\n",
       "      <td>0.021541</td>\n",
       "      <td>0.042</td>\n",
       "      <td>0.118865</td>\n",
       "    </tr>\n",
       "  </tbody>\n",
       "</table>\n",
       "</div>"
      ],
      "text/plain": [
       "               T          dof alternative     p-val          CI95%   cohen-d  \\\n",
       "T-test -0.741585  2216.446607   two-sided  0.458417  [-0.02, 0.01]  0.021541   \n",
       "\n",
       "         BF10     power  \n",
       "T-test  0.042  0.118865  "
      ]
     },
     "execution_count": 81,
     "metadata": {},
     "output_type": "execute_result"
    }
   ],
   "source": [
    "pg.ttest(x=test_group.query(\"active_users == 1\").purchase, y=control_group.query(\n",
    "    \"active_users == 1\").purchase, paired=False, confidence=0.95)"
   ]
  },
  {
   "cell_type": "markdown",
   "metadata": {},
   "source": [
    "В результате теста у нас нет оснований отвергать H0 => конверсия в оплату в тестовой и контрольной группе не отличаются.\n",
    "\n",
    "У нас нет оснований считать, что новая механика оплаты влияет на конверсию в покупку.\n"
   ]
  },
  {
   "cell_type": "markdown",
   "metadata": {},
   "source": [
    "##### Сравнение средних чеков среди тех кто зашел на платформу (ARPAU)\n",
    "\n",
    "Сравниваем средние чеки только тех, кто зашел на сайт, так как мы проверяем гипотезу о влиянии новой механики оплаты, и нам не известно знали ли те кто не заходили на сайт об этой механике\n"
   ]
  },
  {
   "cell_type": "code",
   "execution_count": 82,
   "metadata": {},
   "outputs": [
    {
     "data": {
      "image/png": "[encoded data removed]",
      "text/plain": [
       "<Figure size 640x480 with 1 Axes>"
      ]
     },
     "metadata": {},
     "output_type": "display_data"
    }
   ],
   "source": [
    "combined_data = pd.concat([\n",
    "    control_group.query(\"active_users == 1\").assign(group='Control'),\n",
    "    test_group.query(\"active_users == 1\").assign(group='Test')\n",
    "])\n",
    "\n",
    "sns.violinplot(x='group', y='rev', data=combined_data)\n",
    "plt.show()"
   ]
  },
  {
   "cell_type": "code",
   "execution_count": 83,
   "metadata": {},
   "outputs": [
    {
     "data": {
      "text/html": [
       "<div>\n",
       "<style scoped>\n",
       "    .dataframe tbody tr th:only-of-type {\n",
       "        vertical-align: middle;\n",
       "    }\n",
       "\n",
       "    .dataframe tbody tr th {\n",
       "        vertical-align: top;\n",
       "    }\n",
       "\n",
       "    .dataframe thead th {\n",
       "        text-align: right;\n",
       "    }\n",
       "</style>\n",
       "<table border=\"1\" class=\"dataframe\">\n",
       "  <thead>\n",
       "    <tr style=\"text-align: right;\">\n",
       "      <th></th>\n",
       "      <th>W</th>\n",
       "      <th>pval</th>\n",
       "      <th>normal</th>\n",
       "    </tr>\n",
       "  </thead>\n",
       "  <tbody>\n",
       "    <tr>\n",
       "      <th>rev</th>\n",
       "      <td>0.854724</td>\n",
       "      <td>1.543849e-16</td>\n",
       "      <td>False</td>\n",
       "    </tr>\n",
       "  </tbody>\n",
       "</table>\n",
       "</div>"
      ],
      "text/plain": [
       "            W          pval  normal\n",
       "rev  0.854724  1.543849e-16   False"
      ]
     },
     "execution_count": 83,
     "metadata": {},
     "output_type": "execute_result"
    }
   ],
   "source": [
    "pg.normality(data=test_group.query(\"active_users == 1\").rev)"
   ]
  },
  {
   "cell_type": "code",
   "execution_count": 84,
   "metadata": {},
   "outputs": [
    {
     "data": {
      "text/html": [
       "<div>\n",
       "<style scoped>\n",
       "    .dataframe tbody tr th:only-of-type {\n",
       "        vertical-align: middle;\n",
       "    }\n",
       "\n",
       "    .dataframe tbody tr th {\n",
       "        vertical-align: top;\n",
       "    }\n",
       "\n",
       "    .dataframe thead th {\n",
       "        text-align: right;\n",
       "    }\n",
       "</style>\n",
       "<table border=\"1\" class=\"dataframe\">\n",
       "  <thead>\n",
       "    <tr style=\"text-align: right;\">\n",
       "      <th></th>\n",
       "      <th>W</th>\n",
       "      <th>pval</th>\n",
       "      <th>normal</th>\n",
       "    </tr>\n",
       "  </thead>\n",
       "  <tbody>\n",
       "    <tr>\n",
       "      <th>rev</th>\n",
       "      <td>0.735324</td>\n",
       "      <td>1.498678e-10</td>\n",
       "      <td>False</td>\n",
       "    </tr>\n",
       "  </tbody>\n",
       "</table>\n",
       "</div>"
      ],
      "text/plain": [
       "            W          pval  normal\n",
       "rev  0.735324  1.498678e-10   False"
      ]
     },
     "execution_count": 84,
     "metadata": {},
     "output_type": "execute_result"
    }
   ],
   "source": [
    "pg.normality(data=control_group.query(\"active_users == 1\").rev)"
   ]
  },
  {
   "cell_type": "code",
   "execution_count": 85,
   "metadata": {},
   "outputs": [
    {
     "data": {
      "text/plain": [
       "LeveneResult(statistic=1.501460829433639, pvalue=0.22048133327049665)"
      ]
     },
     "execution_count": 85,
     "metadata": {},
     "output_type": "execute_result"
    }
   ],
   "source": [
    "stats.levene(test_group.query(\"active_users == 1\").fillna(0).rev,\n",
    "             control_group.query(\"active_users == 1\").fillna(0).rev)"
   ]
  },
  {
   "cell_type": "markdown",
   "metadata": {},
   "source": [
    "Распределение в наших выборках не является нормальным, но дисперсии равны\n"
   ]
  },
  {
   "cell_type": "markdown",
   "metadata": {},
   "source": [
    "**Сформулируем гипотезу**\n",
    "\n",
    "- H0 - Средние чеки в тестовой и контрольной группах не различаются\n",
    "- H1 - Средние чеки различаются\n"
   ]
  },
  {
   "cell_type": "code",
   "execution_count": 86,
   "metadata": {},
   "outputs": [
    {
     "data": {
      "text/html": [
       "<div>\n",
       "<style scoped>\n",
       "    .dataframe tbody tr th:only-of-type {\n",
       "        vertical-align: middle;\n",
       "    }\n",
       "\n",
       "    .dataframe tbody tr th {\n",
       "        vertical-align: top;\n",
       "    }\n",
       "\n",
       "    .dataframe thead th {\n",
       "        text-align: right;\n",
       "    }\n",
       "</style>\n",
       "<table border=\"1\" class=\"dataframe\">\n",
       "  <thead>\n",
       "    <tr style=\"text-align: right;\">\n",
       "      <th></th>\n",
       "      <th>T</th>\n",
       "      <th>dof</th>\n",
       "      <th>alternative</th>\n",
       "      <th>p-val</th>\n",
       "      <th>CI95%</th>\n",
       "      <th>cohen-d</th>\n",
       "      <th>BF10</th>\n",
       "      <th>power</th>\n",
       "    </tr>\n",
       "  </thead>\n",
       "  <tbody>\n",
       "    <tr>\n",
       "      <th>T-test</th>\n",
       "      <td>2.86169</td>\n",
       "      <td>106.981668</td>\n",
       "      <td>two-sided</td>\n",
       "      <td>0.00507</td>\n",
       "      <td>[99.64, 548.94]</td>\n",
       "      <td>0.39646</td>\n",
       "      <td>6.536</td>\n",
       "      <td>0.878211</td>\n",
       "    </tr>\n",
       "  </tbody>\n",
       "</table>\n",
       "</div>"
      ],
      "text/plain": [
       "              T         dof alternative    p-val            CI95%  cohen-d  \\\n",
       "T-test  2.86169  106.981668   two-sided  0.00507  [99.64, 548.94]  0.39646   \n",
       "\n",
       "         BF10     power  \n",
       "T-test  6.536  0.878211  "
      ]
     },
     "execution_count": 86,
     "metadata": {},
     "output_type": "execute_result"
    }
   ],
   "source": [
    "pg.ttest(x=test_group.query(\"active_users == 1\").rev, y=control_group.query(\n",
    "    \"active_users == 1\").rev, paired=False, confidence=0.95)"
   ]
  },
  {
   "cell_type": "markdown",
   "metadata": {},
   "source": [
    "В результате сравнения средних чеков тестовая группа показала увеличение среднего чека по сравнению с контрольной группой => мы отвергаем нулевую гипотезу, при этом тест показал высокую мощность.\n"
   ]
  },
  {
   "cell_type": "markdown",
   "metadata": {},
   "source": [
    "Таким образом наше изменения положительно повлияло на метрики продукта, мы смогли увеличить средний чек пользователя на **[99.64 - 548.94]**, также в результате эксперимента конверсия в покупку не сократилась, поэтому новую механику **стоит запускать** для всех пользователей.\n"
   ]
  },
  {
   "cell_type": "markdown",
   "metadata": {},
   "source": [
    "# SQL\n"
   ]
  },
  {
   "cell_type": "markdown",
   "metadata": {},
   "source": [
    "Образовательные курсы состоят из различных уроков, каждый из которых состоит из нескольких маленьких заданий. Каждое такое маленькое задание называется \"горошиной\".\n",
    "\n",
    "Назовём очень усердным учеником того пользователя, который хотя бы раз за текущий месяц **правильно** решил 20 горошин.\n"
   ]
  },
  {
   "attachments": {
    "image.png": {
     "image/png": "[encoded data removed]"
    }
   },
   "cell_type": "markdown",
   "metadata": {},
   "source": [
    "Таблица default.peas:\n",
    "![image.png](attachment:image.png)\n"
   ]
  },
  {
   "cell_type": "markdown",
   "metadata": {},
   "source": [
    "Запрос, который даст информацию о количестве очень усердных студентов.\n"
   ]
  },
  {
   "cell_type": "code",
   "execution_count": 87,
   "metadata": {},
   "outputs": [],
   "source": [
    "connection_default = {'host': 'https://clickhouse.lab.karpov.courses',\n",
    "                      'database': 'default',\n",
    "                      'user': 'student',\n",
    "                      'password': 'dpo_python_2020'\n",
    "                      }"
   ]
  },
  {
   "cell_type": "code",
   "execution_count": 88,
   "metadata": {},
   "outputs": [],
   "source": [
    "q = '''\n",
    "    WITH max_month AS (\n",
    "    SELECT MAX(toStartOfMonth(timest)) AS last_month\n",
    "    FROM peas\n",
    "),\n",
    "filtered_peas AS (\n",
    "    SELECT \n",
    "        st_id,\n",
    "        toStartOfMonth(timest) AS month,\n",
    "        correct\n",
    "    FROM peas\n",
    "    WHERE toStartOfMonth(timest) = (SELECT last_month FROM max_month)\n",
    ")\n",
    "SELECT\n",
    "    st_id,\n",
    "    month,\n",
    "    SUM(correct) AS correct_solve\n",
    "FROM filtered_peas\n",
    "GROUP BY st_id, month\n",
    "HAVING correct_solve > 20;\n",
    "    '''"
   ]
  },
  {
   "cell_type": "code",
   "execution_count": 89,
   "metadata": {},
   "outputs": [],
   "source": [
    "# Если необходим запрос который сразу выведет количетсво таких пользователей то он ниже,\n",
    "# не стал его использовать чтобы можно было более гибко работать с таблицей если необходимо\n",
    "\n",
    "# q = '''\n",
    "# WITH filtered_peas AS (\n",
    "#     SELECT\n",
    "#         st_id,\n",
    "#         toStartOfMonth(timest) AS month,\n",
    "#         SUM(correct) AS correct_solve\n",
    "#     FROM peas\n",
    "#     WHERE toStartOfMonth(timest) = (\n",
    "#         SELECT MAX(toStartOfMonth(timest))\n",
    "#         FROM peas\n",
    "#         )\n",
    "#     GROUP BY st_id, month\n",
    "#     HAVING SUM(correct) > 20\n",
    "# )\n",
    "# SELECT COUNT(*) AS count_student\n",
    "# FROM filtered_peas;\n",
    "# '''"
   ]
  },
  {
   "cell_type": "code",
   "execution_count": 90,
   "metadata": {},
   "outputs": [],
   "source": [
    "# отправляем запрос и записываем результат в пандасовский датафрейм\n",
    "peas = ph.read_clickhouse(query=q, connection=connection_default)"
   ]
  },
  {
   "cell_type": "code",
   "execution_count": 91,
   "metadata": {},
   "outputs": [
    {
     "data": {
      "text/html": [
       "<div>\n",
       "<style scoped>\n",
       "    .dataframe tbody tr th:only-of-type {\n",
       "        vertical-align: middle;\n",
       "    }\n",
       "\n",
       "    .dataframe tbody tr th {\n",
       "        vertical-align: top;\n",
       "    }\n",
       "\n",
       "    .dataframe thead th {\n",
       "        text-align: right;\n",
       "    }\n",
       "</style>\n",
       "<table border=\"1\" class=\"dataframe\">\n",
       "  <thead>\n",
       "    <tr style=\"text-align: right;\">\n",
       "      <th></th>\n",
       "      <th>st_id</th>\n",
       "      <th>month</th>\n",
       "      <th>correct_solve</th>\n",
       "    </tr>\n",
       "  </thead>\n",
       "  <tbody>\n",
       "    <tr>\n",
       "      <th>0</th>\n",
       "      <td>510283</td>\n",
       "      <td>2021-10-01</td>\n",
       "      <td>23</td>\n",
       "    </tr>\n",
       "    <tr>\n",
       "      <th>1</th>\n",
       "      <td>370846</td>\n",
       "      <td>2021-10-01</td>\n",
       "      <td>34</td>\n",
       "    </tr>\n",
       "    <tr>\n",
       "      <th>2</th>\n",
       "      <td>43985</td>\n",
       "      <td>2021-10-01</td>\n",
       "      <td>28</td>\n",
       "    </tr>\n",
       "    <tr>\n",
       "      <th>3</th>\n",
       "      <td>335446</td>\n",
       "      <td>2021-10-01</td>\n",
       "      <td>45</td>\n",
       "    </tr>\n",
       "    <tr>\n",
       "      <th>4</th>\n",
       "      <td>899745</td>\n",
       "      <td>2021-10-01</td>\n",
       "      <td>45</td>\n",
       "    </tr>\n",
       "  </tbody>\n",
       "</table>\n",
       "</div>"
      ],
      "text/plain": [
       "    st_id      month  correct_solve\n",
       "0  510283 2021-10-01             23\n",
       "1  370846 2021-10-01             34\n",
       "2   43985 2021-10-01             28\n",
       "3  335446 2021-10-01             45\n",
       "4  899745 2021-10-01             45"
      ]
     },
     "execution_count": 91,
     "metadata": {},
     "output_type": "execute_result"
    }
   ],
   "source": [
    "peas.head()"
   ]
  },
  {
   "cell_type": "code",
   "execution_count": 92,
   "metadata": {},
   "outputs": [
    {
     "name": "stdout",
     "output_type": "stream",
     "text": [
      "Количество очень усердных студентов - 130\n"
     ]
    }
   ],
   "source": [
    "print(f\"Количество очень усердных студентов - {peas.shape[0]}\")"
   ]
  },
  {
   "cell_type": "markdown",
   "metadata": {},
   "source": [
    "### Оптимизация воронки\n"
   ]
  },
  {
   "cell_type": "markdown",
   "metadata": {},
   "source": [
    "Образовательная платформа предлагает пройти студентам курсы по модели trial: студент может решить бесплатно лишь 30 горошин в день. Для неограниченного количества заданий в определенной дисциплине студенту необходимо приобрести полный доступ. Команда провела эксперимент, где был протестирован новый экран оплаты.\n"
   ]
  },
  {
   "attachments": {
    "image.png": {
     "image/png": "[encoded data removed]"
    }
   },
   "cell_type": "markdown",
   "metadata": {},
   "source": [
    "Таблицы: default.peas (см. выше), default.studs:\n",
    "![image.png](attachment:image.png)\n"
   ]
  },
  {
   "attachments": {
    "image.png": {
     "image/png": "[encoded data removed]"
    }
   },
   "cell_type": "markdown",
   "metadata": {},
   "source": [
    "и default.final_project_check:\n",
    "![image.png](attachment:image.png)\n"
   ]
  },
  {
   "cell_type": "markdown",
   "metadata": {},
   "source": [
    "Необходимо выгрузить следующую информацию о группах пользователей:\n",
    "\n",
    "- ARPU\n",
    "- ARPAU\n",
    "- CR в покупку\n",
    "- СR активного пользователя в покупку\n",
    "- CR пользователя из активности по математике (subject = ’math’) в покупку курса по математике\n",
    "- ARPU считается относительно всех пользователей, попавших в группы.\n",
    "\n",
    "**Активным** считается пользователь, за все время решивший **больше** 10 задач правильно в любых дисциплинах.\n",
    "\n",
    "**Активным** по математике считается пользователь, за все время решивший **2 или больше** задач правильно по математике.\n"
   ]
  },
  {
   "cell_type": "code",
   "execution_count": 93,
   "metadata": {},
   "outputs": [],
   "source": [
    "metrics_query = '''\n",
    "---------active users\n",
    "WITH active_users AS (\n",
    "\tSELECT st_id\n",
    "\tFROM peas\n",
    "\tGROUP BY st_id \n",
    "\tHAVING SUM(correct) > 10 \n",
    "),\n",
    "---------active math users\n",
    "active_math AS (\n",
    "\tSELECT st_id\n",
    "\tFROM peas\n",
    "\tWHERE subject = 'Math'\n",
    "\tGROUP BY st_id\n",
    "\tHAVING SUM(correct) >= 2\n",
    "),\n",
    "---------ARPU\n",
    "arpu AS (\n",
    "    SELECT \n",
    "    \ts.test_grp, \n",
    "    \tround(SUM(fpc.money) / COUNT(s.st_id), 2) AS ARPU\n",
    "    FROM final_project_check AS fpc\n",
    "    JOIN studs AS s ON fpc.st_id = s.st_id\n",
    "    GROUP BY s.test_grp\n",
    "),\n",
    "---------ARPAU\n",
    "arpau AS (\n",
    " \tSELECT \n",
    "\t \ts.test_grp AS test_grp, \n",
    "\t \tround((SUM(fpc.money) / COUNT(s.st_id)),2) AS ARPAU\n",
    "    FROM final_project_check fpc\n",
    "    JOIN studs s ON final_project_check.st_id = studs.st_id\n",
    "    JOIN active_users ON final_project_check.st_id = active_users.st_id\n",
    "    GROUP BY studs.test_grp\n",
    "),\n",
    "---------CR to purchase\n",
    "cr_to_purchase AS (\n",
    "\tSELECT \n",
    "\t\ts.test_grp AS test_grp,\n",
    "\t\tround(uniqExact(fpc.st_id) / uniqExact(s.st_id)::FLOAT, 2) AS CR_purchase\n",
    "\tFROM studs s \n",
    "\tLEFT JOIN final_project_check fpc ON s.st_id = fpc.st_id\n",
    "\tGROUP BY s.test_grp\n",
    "),\n",
    "---------CR active users\n",
    "CR_active_users AS (\n",
    "\tSELECT \n",
    "\t\ts.test_grp AS test_grp,\n",
    "\t\tround(uniqExact(fpc.st_id) / uniqExact(au.st_id)::FLOAT, 2) AS CR_active_purchase\n",
    "\tFROM active_users au\n",
    "\tJOIN studs s ON au.st_id = s.st_id\n",
    "\tLEFT JOIN final_project_check fpc ON au.st_id = fpc.st_id\t\n",
    "\tGROUP BY s.test_grp\n",
    "),\n",
    "---------CR math\n",
    "CR_math AS (\n",
    "\tSELECT \n",
    "\t\ts.test_grp AS test_grp,\n",
    "\t\tround(uniqExact(fpc.st_id) / uniqExact(am.st_id)::FLOAT, 2) AS CR_math_purchase\n",
    "\tFROM active_math am\n",
    "\tJOIN studs s ON am.st_id = s.st_id\n",
    "\tLEFT JOIN final_project_check fpc ON am.st_id = fpc.st_id\n",
    "\tAND fpc.subject = 'Math'\n",
    "\tGROUP BY s.test_grp\n",
    ")\n",
    "SELECT \n",
    "\tarpu.test_grp test_grp,\n",
    "\tarpu.ARPU ARPU,\n",
    "\tarpau.ARPAU ARPAU,\n",
    "\tcr_p.CR_purchase CR_purchase,\n",
    "\tcr_au.CR_active_purchase CR_active_purchase,\n",
    "\tcr_m.CR_math_purchase CR_math_purchase\n",
    "FROM arpu\n",
    "JOIN arpau ON arpu.test_grp = arpau.test_grp\n",
    "JOIN cr_to_purchase cr_p ON arpu.test_grp = cr_p.test_grp\n",
    "JOIN CR_active_users cr_au ON arpu.test_grp = cr_au.test_grp\n",
    "JOIN CR_math cr_m ON arpu.test_grp = cr_m.test_grp\n",
    "'''"
   ]
  },
  {
   "cell_type": "code",
   "execution_count": 94,
   "metadata": {},
   "outputs": [],
   "source": [
    "SQL_metrics = ph.read_clickhouse(\n",
    "    query=metrics_query, connection=connection_default)"
   ]
  },
  {
   "cell_type": "code",
   "execution_count": 95,
   "metadata": {},
   "outputs": [
    {
     "data": {
      "text/html": [
       "<div>\n",
       "<style scoped>\n",
       "    .dataframe tbody tr th:only-of-type {\n",
       "        vertical-align: middle;\n",
       "    }\n",
       "\n",
       "    .dataframe tbody tr th {\n",
       "        vertical-align: top;\n",
       "    }\n",
       "\n",
       "    .dataframe thead th {\n",
       "        text-align: right;\n",
       "    }\n",
       "</style>\n",
       "<table border=\"1\" class=\"dataframe\">\n",
       "  <thead>\n",
       "    <tr style=\"text-align: right;\">\n",
       "      <th></th>\n",
       "      <th>test_grp</th>\n",
       "      <th>ARPU</th>\n",
       "      <th>ARPAU</th>\n",
       "      <th>CR_purchase</th>\n",
       "      <th>CR_active_purchase</th>\n",
       "      <th>CR_math_purchase</th>\n",
       "    </tr>\n",
       "  </thead>\n",
       "  <tbody>\n",
       "    <tr>\n",
       "      <th>0</th>\n",
       "      <td>control</td>\n",
       "      <td>76944.44</td>\n",
       "      <td>77647.06</td>\n",
       "      <td>0.05</td>\n",
       "      <td>0.12</td>\n",
       "      <td>0.08</td>\n",
       "    </tr>\n",
       "    <tr>\n",
       "      <th>1</th>\n",
       "      <td>pilot</td>\n",
       "      <td>78953.49</td>\n",
       "      <td>81571.43</td>\n",
       "      <td>0.11</td>\n",
       "      <td>0.27</td>\n",
       "      <td>0.12</td>\n",
       "    </tr>\n",
       "  </tbody>\n",
       "</table>\n",
       "</div>"
      ],
      "text/plain": [
       "  test_grp      ARPU     ARPAU  CR_purchase  CR_active_purchase  \\\n",
       "0  control  76944.44  77647.06         0.05                0.12   \n",
       "1    pilot  78953.49  81571.43         0.11                0.27   \n",
       "\n",
       "   CR_math_purchase  \n",
       "0              0.08  \n",
       "1              0.12  "
      ]
     },
     "execution_count": 95,
     "metadata": {},
     "output_type": "execute_result"
    }
   ],
   "source": [
    "SQL_metrics"
   ]
  },
  {
   "cell_type": "markdown",
   "metadata": {},
   "source": [
    "# Python\n"
   ]
  },
  {
   "cell_type": "code",
   "execution_count": 96,
   "metadata": {},
   "outputs": [],
   "source": [
    "def concat_tables(table_old):\n",
    "    # Загрузка нового файла\n",
    "    file_path = os.path.join(os.getcwd(), 'data/groups_add.csv')\n",
    "    table_new = pd.read_csv(file_path)\n",
    "\n",
    "    # Переименование столбцов\n",
    "    columns = list(table_new.columns)\n",
    "    columns[0] = 'id'\n",
    "    columns[1] = 'grp'\n",
    "    table_new.columns = columns\n",
    "\n",
    "    # Объединение старой и новой таблиц\n",
    "    groups_new = pd.concat([table_old, table_new], ignore_index=True)\n",
    "\n",
    "    # Преобразование столбца 'grp' в dummy-переменные\n",
    "    groups_new = pd.get_dummies(groups_new)\n",
    "\n",
    "    # Объединение с таблицами активных пользователей и покупок\n",
    "    groups_new = groups_new.merge(\n",
    "        active_studs, left_on='id', right_on='student_id', how='left')\n",
    "    groups_new = groups_new.merge(\n",
    "        checks, left_on='id', right_on='student_id', how='left')\n",
    "\n",
    "    # Удаление лишнего столбца и переименование столбцов\n",
    "    groups_new = groups_new.drop(columns='student_id_y').rename(\n",
    "        columns={'student_id_x': 'active_users'})\n",
    "\n",
    "    # Преобразование активных пользователей в бинарный формат\n",
    "    groups_new['active_users'] = groups_new['active_users'].apply(\n",
    "        lambda x: 1 if x > 0 else 0)\n",
    "\n",
    "    # Преобразование столбцов 'grp_A' и 'grp_B' в целочисленный формат\n",
    "    groups_new = groups_new.astype({'grp_A': int, 'grp_B': int})\n",
    "\n",
    "    # Преобразование столбца 'rev' в бинарный столбец 'purchase'\n",
    "    groups_new['purchase'] = groups_new['rev'].apply(\n",
    "        lambda x: 1 if x > 0 else 0)\n",
    "\n",
    "    # Процент активных пользователей в группе A\n",
    "    active_users_A = round(groups_new.query(\n",
    "        'grp_A == 1').active_users.sum() / groups_new.grp_A.sum(), 3)\n",
    "    # Процент активных пользователей в группе B\n",
    "    active_users_B = round(groups_new.query(\n",
    "        'grp_B == 1').active_users.sum() / groups_new.grp_B.sum(), 3)\n",
    "\n",
    "    # Средний доход на пользователя (ARPU) в группе A\n",
    "    ARPU_A = round(groups_new.query('grp_A == 1').rev.mean(), 3)\n",
    "    # Средний доход на пользователя (ARPU) в группе B\n",
    "    ARPU_B = round(groups_new.query('grp_B == 1').rev.mean(), 3)\n",
    "\n",
    "    # Средний доход на активного пользователя (ARPAU) в группе A\n",
    "    ARPAU_A = round(groups_new.query(\n",
    "        'grp_A == 1 & active_users == 1').rev.mean(), 3)\n",
    "    # Средний доход на активного пользователя (ARPAU) в группе B\n",
    "    ARPAU_B = round(groups_new.query(\n",
    "        'grp_B == 1 & active_users == 1').rev.mean(), 3)\n",
    "\n",
    "    # Коэффициент конверсии (CR) в группе A\n",
    "    CR_A = round(groups_new.query('grp_A == 1').purchase.sum() /\n",
    "                 groups_new.grp_A.sum(), 3)\n",
    "    # Коэффициент конверсии (CR) в группе B\n",
    "    CR_B = round(groups_new.query('grp_B == 1').purchase.sum() /\n",
    "                 groups_new.grp_B.sum(), 3)\n",
    "\n",
    "    # Активная конверсия (active_conversion_rate) в группе A\n",
    "    active_conversion_rate_A = round(groups_new.query('grp_A == 1 & active_users == 1').purchase.sum() /\n",
    "                                     groups_new.query('grp_A == 1 & active_users == 1').grp_A.sum(), 3)\n",
    "    # Активная конверсия (active_conversion_rate) в группе B\n",
    "    active_conversion_rate_B = round(groups_new.query('grp_B == 1 & active_users == 1').purchase.sum() /\n",
    "                                     groups_new.query('grp_B == 1 & active_users == 1').grp_B.sum(), 3)\n",
    "\n",
    "    return active_users_A, active_users_B, ARPU_A, ARPU_B, ARPAU_A, ARPAU_B, CR_A, CR_B, active_conversion_rate_A, active_conversion_rate_B"
   ]
  },
  {
   "cell_type": "code",
   "execution_count": 97,
   "metadata": {},
   "outputs": [
    {
     "data": {
      "image/png": "[encoded data removed]",
      "text/plain": [
       "<Figure size 640x480 with 1 Axes>"
      ]
     },
     "metadata": {},
     "output_type": "display_data"
    },
    {
     "data": {
      "image/png": "[encoded data removed]",
      "text/plain": [
       "<Figure size 640x480 with 1 Axes>"
      ]
     },
     "metadata": {},
     "output_type": "display_data"
    },
    {
     "data": {
      "image/png": "[encoded data removed]",
      "text/plain": [
       "<Figure size 640x480 with 1 Axes>"
      ]
     },
     "metadata": {},
     "output_type": "display_data"
    },
    {
     "data": {
      "image/png": "[encoded data removed]",
      "text/plain": [
       "<Figure size 640x480 with 1 Axes>"
      ]
     },
     "metadata": {},
     "output_type": "display_data"
    },
    {
     "data": {
      "image/png": "[encoded data removed]",
      "text/plain": [
       "<Figure size 640x480 with 1 Axes>"
      ]
     },
     "metadata": {},
     "output_type": "display_data"
    }
   ],
   "source": [
    "def plot_metrics(active_users_A, active_users_B, ARPU_A, ARPU_B, ARPAU_A, ARPAU_B, CR_A, CR_B, active_conversion_rate_A, active_conversion_rate_B):\n",
    "    # Данные для построения графиков\n",
    "    metrics_data = {\n",
    "        'Metric': ['Active Users (%)', 'ARPU', 'ARPAU', 'Conversion Rate (%)', 'Active Conversion Rate (%)'],\n",
    "        'Group A': [active_users_A, ARPU_A, ARPAU_A, CR_A, active_conversion_rate_A],\n",
    "        'Group B': [active_users_B, ARPU_B, ARPAU_B, CR_B, active_conversion_rate_B]\n",
    "    }\n",
    "\n",
    "    df_metrics = pd.DataFrame(metrics_data)\n",
    "\n",
    "    # Построение столбчатых диаграмм для каждой метрики\n",
    "    for i, metric in enumerate(df_metrics['Metric']):\n",
    "        plt.figure(i)\n",
    "        data = {\n",
    "            'Group': ['A', 'B'],\n",
    "            'Value': [df_metrics.loc[i, 'Group A'], df_metrics.loc[i, 'Group B']]\n",
    "        }\n",
    "        df_plot = pd.DataFrame(data)\n",
    "        sns.barplot(x='Group', y='Value', data=df_plot)\n",
    "        plt.title(f'{metric}')\n",
    "        plt.ylabel(metric)\n",
    "        plt.xlabel('Group')\n",
    "        # Немного увеличиваем максимальное значение для улучшения визуализации\n",
    "        plt.ylim(0, max(df_plot['Value']) * 1.2)\n",
    "\n",
    "        # Добавление подписей значений\n",
    "        for j, value in enumerate(df_plot['Value']):\n",
    "            plt.text(\n",
    "                x=j, y=value + (max(df_plot['Value']) * 0.02), s=f'{value:.3f}', ha='center')\n",
    "\n",
    "        plt.show()\n",
    "\n",
    "\n",
    "# Используем функцию concat_tables для получения метрик\n",
    "metrics = concat_tables(groups)\n",
    "\n",
    "# Визуализация метрик с помощью функции plot_metrics\n",
    "plot_metrics(*metrics)"
   ]
  },
  {
   "cell_type": "code",
   "execution_count": null,
   "metadata": {},
   "outputs": [],
   "source": []
  }
 ],
 "metadata": {
  "kernelspec": {
   "display_name": "base",
   "language": "python",
   "name": "python3"
  },
  "language_info": {
   "codemirror_mode": {
    "name": "ipython",
    "version": 3
   },
   "file_extension": ".py",
   "mimetype": "text/x-python",
   "name": "python",
   "nbconvert_exporter": "python",
   "pygments_lexer": "ipython3",
   "version": "3.11.7"
  }
 },
 "nbformat": 4,
 "nbformat_minor": 2
}
